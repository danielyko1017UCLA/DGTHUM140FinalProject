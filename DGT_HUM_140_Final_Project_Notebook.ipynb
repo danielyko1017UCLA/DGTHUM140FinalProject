{
 "cells": [
  {
   "cell_type": "markdown",
   "id": "4edc1037-9b05-44c6-8c07-219f69328b77",
   "metadata": {},
   "source": [
    "# Analysis of Labor between Ethnicity and Gender\n",
    "\n",
    "\n",
    "## Description\n",
    "This analysis aims to look for patterns and/or correlations between labor status in the US (eg. employed, unemployed, civilian labor force) and other factors such as ethnicity (eg. White, Asian, African-American) and gender (eg. male or female). These will be compared against each other to provide different insights into what may be related with each other. In order to expand on this analysis, other datasets with other factors such as cost of living and average income may be included as this notebook is being developed. Also, datasets with more up-to-date labor data may be included as well. The primary libraries that will be used are pandas and matplotlib, although other libraries may be used depending on what the other datasets may require for cleaning or web scraping. \n",
    "\n",
    "## Data Source(s)\n",
    "Labor Data from CORGIS (Up to 2015): https://corgis-edu.github.io/corgis/csv/labor/\n",
    "\n",
    "(TO BE EXPANDED LATER)\n",
    "\n",
    "## Motivation\n",
    "The primary motivation for analyzing this data is to see if there are any noticeable differences between groups of people when it comes to labor in the US. Employment (or rather, unemployment) is a very important part of people's lives, and discovering if there are clear biases in \"intrinsic factors\" will make it easier to figure out why these biases exist. In other words, using objective analysis can make it easier for proper political discussion to lead the right direction and for the general public to understand what employment trends are.\n",
    "\n",
    "## Questions to Answer\n",
    "- Are there major differences in employment between ethnicities in the US?\n",
    "- Are men or women more likely to be employed in the US?\n",
    "- Is there a specific combination of ethnicity and gender that is more likely to be employed or less likely to be employed?\n",
    "- What is the most common type of employment for a given ethnicity or gender?\n",
    "(TO BE EXPANDED LATER)"
   ]
  },
  {
   "cell_type": "markdown",
   "id": "21189440",
   "metadata": {},
   "source": [
    "# Imports and Data Collection"
   ]
  },
  {
   "cell_type": "code",
   "execution_count": 34,
   "id": "95b361ee-d241-4bf7-b3ef-0a32dcc2e62a",
   "metadata": {},
   "outputs": [],
   "source": [
    "import requests\n",
    "from bs4 import BeautifulSoup\n",
    "import pandas as pd\n",
    "import matplotlib.pyplot as plt\n",
    "import numpy as py"
   ]
  },
  {
   "cell_type": "code",
   "execution_count": 14,
   "id": "ad16c2c1-2207-4233-8281-307161fadbed",
   "metadata": {
    "tags": []
   },
   "outputs": [],
   "source": [
    "def pdcorgis(a):\n",
    "  inputText = a.lower()\n",
    "  url = 'https://corgis-edu.github.io/corgis/csv/' + inputText + '/'\n",
    "  \n",
    "  response = requests.get(url)\n",
    "  html_string = response.text\n",
    "  document = BeautifulSoup(html_string, \"html.parser\")\n",
    "  links = document.find_all('a')\n",
    "  \n",
    "  for i in links:\n",
    "    if i.has_attr('download'):\n",
    "      hrefVar = i['href']\n",
    "  \n",
    "  newURL = url + hrefVar\n",
    "  dataframe = pd.read_csv(newURL)\n",
    "  \n",
    "  return dataframe"
   ]
  },
  {
   "cell_type": "code",
   "execution_count": 18,
   "id": "73716a29-da6e-41cb-8436-ed5672d03e06",
   "metadata": {
    "tags": []
   },
   "outputs": [
    {
     "data": {
      "text/html": [
       "<div>\n",
       "<style scoped>\n",
       "    .dataframe tbody tr th:only-of-type {\n",
       "        vertical-align: middle;\n",
       "    }\n",
       "\n",
       "    .dataframe tbody tr th {\n",
       "        vertical-align: top;\n",
       "    }\n",
       "\n",
       "    .dataframe thead th {\n",
       "        text-align: right;\n",
       "    }\n",
       "</style>\n",
       "<table border=\"1\" class=\"dataframe\">\n",
       "  <thead>\n",
       "    <tr style=\"text-align: right;\">\n",
       "      <th></th>\n",
       "      <th>Time.Month</th>\n",
       "      <th>Time.Month Name</th>\n",
       "      <th>Time.Year</th>\n",
       "      <th>Data.Civilian Noninstitutional Population.Asian</th>\n",
       "      <th>Data.Civilian Noninstitutional Population.Black or African American</th>\n",
       "      <th>Data.Civilian Noninstitutional Population.White</th>\n",
       "      <th>Data.Not In Labor Force.Asian</th>\n",
       "      <th>Data.Not In Labor Force.Black or African American</th>\n",
       "      <th>Data.Not In Labor Force.White</th>\n",
       "      <th>Data.Civilian Labor Force.Asian.Counts</th>\n",
       "      <th>...</th>\n",
       "      <th>Data.Unemployed.Black or African American.Counts.Women</th>\n",
       "      <th>Data.Unemployed.Black or African American.Unemployment Rate.All</th>\n",
       "      <th>Data.Unemployed.Black or African American.Unemployment Rate.Men</th>\n",
       "      <th>Data.Unemployed.Black or African American.Unemployment Rate.Women</th>\n",
       "      <th>Data.Unemployed.White.Counts.All</th>\n",
       "      <th>Data.Unemployed.White.Counts.Men</th>\n",
       "      <th>Data.Unemployed.White.Counts.Women</th>\n",
       "      <th>Data.Unemployed.White.Unemployment Rate.All</th>\n",
       "      <th>Data.Unemployed.White.Unemployment Rate.Men</th>\n",
       "      <th>Data.Unemployed.White.Unemployment Rate.Women</th>\n",
       "    </tr>\n",
       "  </thead>\n",
       "  <tbody>\n",
       "    <tr>\n",
       "      <th>0</th>\n",
       "      <td>1</td>\n",
       "      <td>January</td>\n",
       "      <td>1972</td>\n",
       "      <td>0.0</td>\n",
       "      <td>14332.0</td>\n",
       "      <td>126749.0</td>\n",
       "      <td>0.0</td>\n",
       "      <td>5998.0</td>\n",
       "      <td>0.0</td>\n",
       "      <td>0.0</td>\n",
       "      <td>...</td>\n",
       "      <td>343.0</td>\n",
       "      <td>11.6</td>\n",
       "      <td>9.0</td>\n",
       "      <td>9.8</td>\n",
       "      <td>4439.0</td>\n",
       "      <td>2096.0</td>\n",
       "      <td>1325.0</td>\n",
       "      <td>5.9</td>\n",
       "      <td>4.8</td>\n",
       "      <td>5.1</td>\n",
       "    </tr>\n",
       "    <tr>\n",
       "      <th>1</th>\n",
       "      <td>2</td>\n",
       "      <td>February</td>\n",
       "      <td>1972</td>\n",
       "      <td>0.0</td>\n",
       "      <td>14381.0</td>\n",
       "      <td>126976.0</td>\n",
       "      <td>0.0</td>\n",
       "      <td>5943.0</td>\n",
       "      <td>0.0</td>\n",
       "      <td>0.0</td>\n",
       "      <td>...</td>\n",
       "      <td>311.0</td>\n",
       "      <td>11.5</td>\n",
       "      <td>8.8</td>\n",
       "      <td>8.9</td>\n",
       "      <td>4400.0</td>\n",
       "      <td>2062.0</td>\n",
       "      <td>1271.0</td>\n",
       "      <td>5.8</td>\n",
       "      <td>4.7</td>\n",
       "      <td>4.9</td>\n",
       "    </tr>\n",
       "    <tr>\n",
       "      <th>2</th>\n",
       "      <td>3</td>\n",
       "      <td>March</td>\n",
       "      <td>1972</td>\n",
       "      <td>0.0</td>\n",
       "      <td>14401.0</td>\n",
       "      <td>127191.0</td>\n",
       "      <td>0.0</td>\n",
       "      <td>5857.0</td>\n",
       "      <td>0.0</td>\n",
       "      <td>0.0</td>\n",
       "      <td>...</td>\n",
       "      <td>329.0</td>\n",
       "      <td>10.7</td>\n",
       "      <td>8.1</td>\n",
       "      <td>9.3</td>\n",
       "      <td>4256.0</td>\n",
       "      <td>1963.0</td>\n",
       "      <td>1265.0</td>\n",
       "      <td>5.6</td>\n",
       "      <td>4.5</td>\n",
       "      <td>4.9</td>\n",
       "    </tr>\n",
       "    <tr>\n",
       "      <th>3</th>\n",
       "      <td>4</td>\n",
       "      <td>April</td>\n",
       "      <td>1972</td>\n",
       "      <td>0.0</td>\n",
       "      <td>14434.0</td>\n",
       "      <td>127372.0</td>\n",
       "      <td>0.0</td>\n",
       "      <td>5952.0</td>\n",
       "      <td>0.0</td>\n",
       "      <td>0.0</td>\n",
       "      <td>...</td>\n",
       "      <td>260.0</td>\n",
       "      <td>9.2</td>\n",
       "      <td>6.9</td>\n",
       "      <td>7.4</td>\n",
       "      <td>3878.0</td>\n",
       "      <td>1736.0</td>\n",
       "      <td>1227.0</td>\n",
       "      <td>5.1</td>\n",
       "      <td>4.0</td>\n",
       "      <td>4.8</td>\n",
       "    </tr>\n",
       "    <tr>\n",
       "      <th>4</th>\n",
       "      <td>5</td>\n",
       "      <td>May</td>\n",
       "      <td>1972</td>\n",
       "      <td>0.0</td>\n",
       "      <td>14486.0</td>\n",
       "      <td>127601.0</td>\n",
       "      <td>0.0</td>\n",
       "      <td>5914.0</td>\n",
       "      <td>0.0</td>\n",
       "      <td>0.0</td>\n",
       "      <td>...</td>\n",
       "      <td>297.0</td>\n",
       "      <td>9.3</td>\n",
       "      <td>6.9</td>\n",
       "      <td>8.4</td>\n",
       "      <td>3523.0</td>\n",
       "      <td>1525.0</td>\n",
       "      <td>1242.0</td>\n",
       "      <td>4.6</td>\n",
       "      <td>3.5</td>\n",
       "      <td>4.8</td>\n",
       "    </tr>\n",
       "  </tbody>\n",
       "</table>\n",
       "<p>5 rows × 51 columns</p>\n",
       "</div>"
      ],
      "text/plain": [
       "   Time.Month Time.Month Name  Time.Year  \\\n",
       "0           1         January       1972   \n",
       "1           2        February       1972   \n",
       "2           3           March       1972   \n",
       "3           4           April       1972   \n",
       "4           5             May       1972   \n",
       "\n",
       "   Data.Civilian Noninstitutional Population.Asian  \\\n",
       "0                                              0.0   \n",
       "1                                              0.0   \n",
       "2                                              0.0   \n",
       "3                                              0.0   \n",
       "4                                              0.0   \n",
       "\n",
       "   Data.Civilian Noninstitutional Population.Black or African American  \\\n",
       "0                                            14332.0                     \n",
       "1                                            14381.0                     \n",
       "2                                            14401.0                     \n",
       "3                                            14434.0                     \n",
       "4                                            14486.0                     \n",
       "\n",
       "   Data.Civilian Noninstitutional Population.White  \\\n",
       "0                                         126749.0   \n",
       "1                                         126976.0   \n",
       "2                                         127191.0   \n",
       "3                                         127372.0   \n",
       "4                                         127601.0   \n",
       "\n",
       "   Data.Not In Labor Force.Asian  \\\n",
       "0                            0.0   \n",
       "1                            0.0   \n",
       "2                            0.0   \n",
       "3                            0.0   \n",
       "4                            0.0   \n",
       "\n",
       "   Data.Not In Labor Force.Black or African American  \\\n",
       "0                                             5998.0   \n",
       "1                                             5943.0   \n",
       "2                                             5857.0   \n",
       "3                                             5952.0   \n",
       "4                                             5914.0   \n",
       "\n",
       "   Data.Not In Labor Force.White  Data.Civilian Labor Force.Asian.Counts  ...  \\\n",
       "0                            0.0                                     0.0  ...   \n",
       "1                            0.0                                     0.0  ...   \n",
       "2                            0.0                                     0.0  ...   \n",
       "3                            0.0                                     0.0  ...   \n",
       "4                            0.0                                     0.0  ...   \n",
       "\n",
       "   Data.Unemployed.Black or African American.Counts.Women  \\\n",
       "0                                              343.0        \n",
       "1                                              311.0        \n",
       "2                                              329.0        \n",
       "3                                              260.0        \n",
       "4                                              297.0        \n",
       "\n",
       "   Data.Unemployed.Black or African American.Unemployment Rate.All  \\\n",
       "0                                               11.6                 \n",
       "1                                               11.5                 \n",
       "2                                               10.7                 \n",
       "3                                                9.2                 \n",
       "4                                                9.3                 \n",
       "\n",
       "   Data.Unemployed.Black or African American.Unemployment Rate.Men  \\\n",
       "0                                                9.0                 \n",
       "1                                                8.8                 \n",
       "2                                                8.1                 \n",
       "3                                                6.9                 \n",
       "4                                                6.9                 \n",
       "\n",
       "   Data.Unemployed.Black or African American.Unemployment Rate.Women  \\\n",
       "0                                                9.8                   \n",
       "1                                                8.9                   \n",
       "2                                                9.3                   \n",
       "3                                                7.4                   \n",
       "4                                                8.4                   \n",
       "\n",
       "   Data.Unemployed.White.Counts.All  Data.Unemployed.White.Counts.Men  \\\n",
       "0                            4439.0                            2096.0   \n",
       "1                            4400.0                            2062.0   \n",
       "2                            4256.0                            1963.0   \n",
       "3                            3878.0                            1736.0   \n",
       "4                            3523.0                            1525.0   \n",
       "\n",
       "   Data.Unemployed.White.Counts.Women  \\\n",
       "0                              1325.0   \n",
       "1                              1271.0   \n",
       "2                              1265.0   \n",
       "3                              1227.0   \n",
       "4                              1242.0   \n",
       "\n",
       "   Data.Unemployed.White.Unemployment Rate.All  \\\n",
       "0                                          5.9   \n",
       "1                                          5.8   \n",
       "2                                          5.6   \n",
       "3                                          5.1   \n",
       "4                                          4.6   \n",
       "\n",
       "   Data.Unemployed.White.Unemployment Rate.Men  \\\n",
       "0                                          4.8   \n",
       "1                                          4.7   \n",
       "2                                          4.5   \n",
       "3                                          4.0   \n",
       "4                                          3.5   \n",
       "\n",
       "   Data.Unemployed.White.Unemployment Rate.Women  \n",
       "0                                            5.1  \n",
       "1                                            4.9  \n",
       "2                                            4.9  \n",
       "3                                            4.8  \n",
       "4                                            4.8  \n",
       "\n",
       "[5 rows x 51 columns]"
      ]
     },
     "execution_count": 18,
     "metadata": {},
     "output_type": "execute_result"
    }
   ],
   "source": [
    "df1 = pdcorgis('labor')\n",
    "df1.head()"
   ]
  },
  {
   "cell_type": "code",
   "execution_count": null,
   "id": "fae459b3-e221-441d-81c1-02ea865a25ed",
   "metadata": {},
   "outputs": [],
   "source": [
    "# Boxes below are reserved for future data collection"
   ]
  },
  {
   "cell_type": "code",
   "execution_count": null,
   "id": "0267475a-529a-48cc-a91d-b3fde92af8aa",
   "metadata": {},
   "outputs": [],
   "source": []
  },
  {
   "cell_type": "code",
   "execution_count": null,
   "id": "cc714e58-530e-4693-be86-97f4ff144588",
   "metadata": {},
   "outputs": [],
   "source": []
  },
  {
   "cell_type": "code",
   "execution_count": null,
   "id": "eaa66e72-9d94-43dd-977a-c73fedab972d",
   "metadata": {},
   "outputs": [],
   "source": []
  },
  {
   "cell_type": "markdown",
   "id": "7924c31b-452b-437a-a765-08e932ccec12",
   "metadata": {},
   "source": [
    "# Exploratory Data Visualizations"
   ]
  },
  {
   "cell_type": "code",
   "execution_count": 140,
   "id": "36bae2b9-1a9b-4a0d-9b72-2ba9c42c8580",
   "metadata": {},
   "outputs": [],
   "source": [
    "year = df1['Time.Year']\n",
    "white_unem = df1['Data.Unemployed.White.Counts.All']\n",
    "black_unem = df1['Data.Unemployed.Black or African American.Counts.All']"
   ]
  },
  {
   "cell_type": "code",
   "execution_count": 131,
   "id": "512c234a-f674-40a7-8311-e21aa308148b",
   "metadata": {},
   "outputs": [
    {
     "data": {
      "text/plain": [
       "[<matplotlib.lines.Line2D at 0x7fb67e820700>]"
      ]
     },
     "execution_count": 131,
     "metadata": {},
     "output_type": "execute_result"
    },
    {
     "data": {
      "image/png": "[encoded data removed]",
      "text/plain": [
       "<Figure size 640x480 with 1 Axes>"
      ]
     },
     "metadata": {},
     "output_type": "display_data"
    }
   ],
   "source": [
    "fig, ax = plt.subplots()\n",
    "ax.plot(year, whiteunem)\n",
    "ax.plot(year, blackunem)"
   ]
  },
  {
   "cell_type": "code",
   "execution_count": 138,
   "id": "cac2b161-d260-4655-a5eb-d4907f18e09c",
   "metadata": {},
   "outputs": [],
   "source": [
    "yearsgrouped = df1['Time.Year'].unique()\n",
    "male_unem_june = df1.loc[df1['Time.Month Name']=='June', 'Data.Unemployed.White.Unemployment Rate.Men']\n",
    "female_unem_june = df1.loc[df1['Time.Month Name']=='June', 'Data.Unemployed.White.Unemployment Rate.Women']"
   ]
  },
  {
   "cell_type": "code",
   "execution_count": 139,
   "id": "ab39c868-8420-4873-9991-1765a22aab75",
   "metadata": {
    "tags": []
   },
   "outputs": [
    {
     "data": {
      "text/plain": [
       "[<matplotlib.lines.Line2D at 0x7fb67e44da20>]"
      ]
     },
     "execution_count": 139,
     "metadata": {},
     "output_type": "execute_result"
    },
    {
     "data": {
      "image/png": "[encoded data removed]",
      "text/plain": [
       "<Figure size 640x480 with 1 Axes>"
      ]
     },
     "metadata": {},
     "output_type": "display_data"
    }
   ],
   "source": [
    "fig, ax = plt.subplots()\n",
    "ax.plot(yearsgrouped, male_unem_june)\n",
    "ax.plot(yearsgrouped, female_unem_june)"
   ]
  },
  {
   "cell_type": "code",
   "execution_count": 136,
   "id": "48a948b9-75b6-424e-94b3-6c16700b2287",
   "metadata": {},
   "outputs": [],
   "source": [
    "monthsgrouped = df1['Time.Month Name'].unique()\n",
    "asia_employ_2000 = df1.loc[df1['Time.Year']==2000, 'Data.Employed.Asian.Counts']\n",
    "asia_unemploy_2000 = df1.loc[df1['Time.Year']==2000, 'Data.Unemployed.Asian.Counts']"
   ]
  },
  {
   "cell_type": "code",
   "execution_count": 137,
   "id": "8d53c1a8-cb62-4119-94bb-178619912b52",
   "metadata": {
    "tags": []
   },
   "outputs": [
    {
     "data": {
      "text/plain": [
       "<BarContainer object of 12 artists>"
      ]
     },
     "execution_count": 137,
     "metadata": {},
     "output_type": "execute_result"
    },
    {
     "data": {
      "image/png": "[encoded data removed]",
      "text/plain": [
       "<Figure size 640x480 with 1 Axes>"
      ]
     },
     "metadata": {},
     "output_type": "display_data"
    }
   ],
   "source": [
    "fig, ax = plt.subplots()\n",
    "ax.bar(monthsgrouped, asia_employ_2000)\n",
    "ax.bar(monthsgrouped, asia_unemploy_2000)"
   ]
  },
  {
   "cell_type": "code",
   "execution_count": 134,
   "id": "f5b80233-5cc9-43f1-a2ed-d69815f39d98",
   "metadata": {},
   "outputs": [],
   "source": [
    "asia_notlabor = df1.groupby('Time.Year')['Data.Not In Labor Force.Asian'].sum()\n",
    "black_notlabor = df1.groupby('Time.Year')['Data.Not In Labor Force.Black or African American'].sum()\n",
    "white_notlabor = df1.groupby('Time.Year')['Data.Not In Labor Force.White'].sum()"
   ]
  },
  {
   "cell_type": "code",
   "execution_count": 135,
   "id": "3a2e3130-fb17-4e22-b775-bf6e98f878fd",
   "metadata": {},
   "outputs": [
    {
     "data": {
      "text/plain": [
       "<matplotlib.legend.Legend at 0x7fb67e7c9e40>"
      ]
     },
     "execution_count": 135,
     "metadata": {},
     "output_type": "execute_result"
    },
    {
     "data": {
      "image/png": "[encoded data removed]",
      "text/plain": [
       "<Figure size 640x480 with 1 Axes>"
      ]
     },
     "metadata": {},
     "output_type": "display_data"
    }
   ],
   "source": [
    "fig, ax = plt.subplots()\n",
    "ax.barh(yearsgrouped, white_notlabor, label='white')\n",
    "ax.barh(yearsgrouped, black_notlabor, label='black')\n",
    "ax.barh(yearsgrouped, asia_notlabor, label='asian')\n",
    "ax.invert_yaxis()\n",
    "ax.legend()"
   ]
  },
  {
   "cell_type": "markdown",
   "id": "3183e3eb",
   "metadata": {},
   "source": [
    "- Data stretches from 1972 to 2015 completely from month to month\n",
    "- The data is mostly complete for White and African American, but is noticeably missing everything before 2000 for Asians\n",
    "- Noticeable gap of \"Not in Labor\" for White between 1972 and 1976\n",
    "\n",
    "\n",
    "- Data is sectioned by status of employment, then ethnicity, then type of data (eg. count, rate, etc.)\n",
    "- Most data is of a float type, but some are strings or integers when relevant\n",
    "- Years and Months need to be enumerated in order to properly visualize trends\n",
    "\n",
    "\n",
    "- Comparison between male and female should be relatively straightforward since they are already separated\n",
    "- Rates and ratios are percentages, but are of the float type\n",
    "- Time.Month is mostly irrelevant, since Time.Month Name exists and is essentially the same thing"
   ]
  },
  {
   "cell_type": "code",
   "execution_count": null,
   "id": "a5436a74-4f45-4e7d-96ca-12e7ef806c45",
   "metadata": {
    "tags": []
   },
   "outputs": [],
   "source": []
  },
  {
   "cell_type": "markdown",
   "id": "8092a60b-32b1-4173-aa67-794881638608",
   "metadata": {},
   "source": [
    "# Analytical Data Visualizations"
   ]
  },
  {
   "cell_type": "code",
   "execution_count": 129,
   "id": "8c2294d9-ab78-42e0-83ca-321bc381503d",
   "metadata": {},
   "outputs": [],
   "source": [
    "#Potential data organization code for first visualization\n",
    "white_empl_ratio_male = df1.groupby('Time.Year')['Data.Employed.White.Employment-Population Ratio.Men'].sum()\n",
    "black_empl_ratio_male = df1.groupby('Time.Year')['Data.Employed.Black or African American.Employment-Population Ratio.Men'].sum()"
   ]
  },
  {
   "cell_type": "code",
   "execution_count": 128,
   "id": "5da8cbe2-dc2f-495a-b8b5-983e296d9b1f",
   "metadata": {},
   "outputs": [],
   "source": [
    "#Potential data organization code for second visualization\n",
    "white_empl_ratio_female = df1.groupby('Time.Year')['Data.Employed.White.Employment-Population Ratio.Women'].sum()\n",
    "black_empl_ratio_female = df1.groupby('Time.Year')['Data.Employed.Black or African American.Employment-Population Ratio.Women'].sum()"
   ]
  },
  {
   "cell_type": "code",
   "execution_count": 141,
   "id": "bde8095b-24a9-49c7-8f10-a224696616e9",
   "metadata": {},
   "outputs": [],
   "source": [
    "#Potential data organization code for third visualization\n",
    "white_unem_grouped = df1.groupby('Time.Year')['Data.Unemployed.White.Counts.All'].sum()\n",
    "white_emp = df1.groupby('Time.Year')['Data.Employed.White.Counts.All'].sum()\n",
    "white_civil = df1.groupby('Time.Year')['Data.Civilian Labor Force.White.Counts.All'].sum()\n",
    "#white_notlabor is already done\n",
    "\n",
    "black_unem_grouped = df1.groupby('Time.Year')['Data.Unemployed.Black or African American.Counts.All'].sum()\n",
    "black_emp = df1.groupby('Time.Year')['Data.Employed.Black or African American.Counts.All'].sum()\n",
    "black_civil = df1.groupby('Time.Year')['Data.Civilian Labor Force.Black or African American.Participation Rate.All'].sum()\n",
    "#black_notlabor is already done\n",
    "\n",
    "asia_unem_grouped = df1.groupby('Time.Year')['Data.Unemployed.Asian.Counts'].sum()\n",
    "asia_emp = df1.groupby('Time.Year')['Data.Employed.Asian.Counts'].sum()\n",
    "asia_civil = df1.groupby('Time.Year')['Data.Civilian Labor Force.Asian.Counts'].sum()\n",
    "#asia_notlabor is already done\n"
   ]
  },
  {
   "cell_type": "code",
   "execution_count": 142,
   "id": "6c28ea8a-5962-49e1-aa9d-2f14900865ee",
   "metadata": {},
   "outputs": [],
   "source": [
    "#Potential data organization code for fourth visualization\n",
    "total_unem = white_unem_grouped + black_unem_grouped + asia_unem_grouped\n",
    "total_emp = white_emp + black_emp + asia_emp"
   ]
  },
  {
   "cell_type": "code",
   "execution_count": null,
   "id": "d0932895-df99-4a9b-be70-039fdc2a50ae",
   "metadata": {},
   "outputs": [],
   "source": []
  },
  {
   "cell_type": "code",
   "execution_count": null,
   "id": "0d17faa4-eca1-4647-a0f7-66163435e2b4",
   "metadata": {
    "tags": []
   },
   "outputs": [],
   "source": [
    "#First Visualization: Bar Plot of Employment Ratio for Males between White and Black (with respect to years)\n",
    "\n",
    "#Second Visualization: Bar Plot of Employment Ratio for Females between White and Black (with respect to years)\n",
    "\n",
    "#Third Visualization: Line Plot of Unemployed, Employed, Civilian Labor Force, and Not in Labor for every race\n",
    "\n",
    "#Fourth Visualization: Histogram of all unemployed people and Histogram of all employed people\n",
    "\n",
    "#More visualizations after more data collection and when the narrative is defined more"
   ]
  },
  {
   "cell_type": "code",
   "execution_count": null,
   "id": "679a4c55-b149-47c6-ac03-8d007b2e7e37",
   "metadata": {},
   "outputs": [],
   "source": [
    "#Boxes below for more analytical data visualizations"
   ]
  },
  {
   "cell_type": "code",
   "execution_count": null,
   "id": "8b986523-2eb2-4555-935a-5de37eb9f84a",
   "metadata": {},
   "outputs": [],
   "source": []
  },
  {
   "cell_type": "code",
   "execution_count": null,
   "id": "2aa8266d-bb5d-4626-95a1-91d2df9dd084",
   "metadata": {},
   "outputs": [],
   "source": []
  },
  {
   "cell_type": "code",
   "execution_count": null,
   "id": "5383fd9b-0267-4d5c-ab54-eb06e8c082bc",
   "metadata": {},
   "outputs": [],
   "source": []
  },
  {
   "cell_type": "code",
   "execution_count": null,
   "id": "ac1baa1f-ba7d-4242-bec7-0d95fb484e8e",
   "metadata": {},
   "outputs": [],
   "source": []
  },
  {
   "cell_type": "code",
   "execution_count": null,
   "id": "6de5415e-1ef5-477c-b7a2-5ce47d6e4e36",
   "metadata": {},
   "outputs": [],
   "source": []
  },
  {
   "cell_type": "code",
   "execution_count": null,
   "id": "284854d0-92a4-482e-937e-904e93e21be7",
   "metadata": {},
   "outputs": [],
   "source": []
  },
  {
   "cell_type": "code",
   "execution_count": null,
   "id": "ba5282e3-5ec2-47d0-b5b6-2875af2e5360",
   "metadata": {
    "tags": []
   },
   "outputs": [],
   "source": []
  },
  {
   "cell_type": "code",
   "execution_count": null,
   "id": "f364d19a-d545-485b-bb5b-25be3cfba874",
   "metadata": {},
   "outputs": [],
   "source": []
  },
  {
   "cell_type": "code",
   "execution_count": null,
   "id": "01662301-327f-421a-9908-83ab0c969cee",
   "metadata": {},
   "outputs": [],
   "source": []
  },
  {
   "cell_type": "code",
   "execution_count": null,
   "id": "34abdd71-d58e-447b-a5c1-94e91090ed73",
   "metadata": {},
   "outputs": [],
   "source": []
  },
  {
   "cell_type": "code",
   "execution_count": null,
   "id": "75d701e5-1f5f-484e-bdd1-7bb2e5ab634a",
   "metadata": {},
   "outputs": [],
   "source": []
  },
  {
   "cell_type": "code",
   "execution_count": null,
   "id": "5f68fcae-e88b-4759-bf47-393a9577f037",
   "metadata": {},
   "outputs": [],
   "source": []
  },
  {
   "cell_type": "code",
   "execution_count": null,
   "id": "9e75458a-89a5-4535-83b0-bcfcdf8472b5",
   "metadata": {},
   "outputs": [],
   "source": []
  },
  {
   "cell_type": "code",
   "execution_count": null,
   "id": "190467bd-c55d-43e2-96f1-4026e4a346e0",
   "metadata": {},
   "outputs": [],
   "source": []
  },
  {
   "cell_type": "code",
   "execution_count": null,
   "id": "a3d709d9-a14c-408e-b2e1-67d82583e45b",
   "metadata": {
    "tags": []
   },
   "outputs": [],
   "source": []
  },
  {
   "cell_type": "code",
   "execution_count": null,
   "id": "2fc23d80-e01c-40cd-964c-2aa077283263",
   "metadata": {
    "tags": []
   },
   "outputs": [],
   "source": []
  },
  {
   "cell_type": "code",
   "execution_count": null,
   "id": "7a6056c0-7920-47fc-a533-9bc99e2eb4d2",
   "metadata": {},
   "outputs": [],
   "source": []
  },
  {
   "cell_type": "code",
   "execution_count": null,
   "id": "da4e8ef0-9314-4eae-9827-e155bbdcb4c0",
   "metadata": {
    "tags": []
   },
   "outputs": [],
   "source": []
  },
  {
   "cell_type": "code",
   "execution_count": null,
   "id": "0d5c1c47",
   "metadata": {},
   "outputs": [],
   "source": []
  },
  {
   "cell_type": "code",
   "execution_count": null,
   "id": "7e572e6e-13cb-4e07-a360-ede842fd5d9c",
   "metadata": {},
   "outputs": [],
   "source": []
  }
 ],
 "metadata": {
  "kernelspec": {
   "display_name": "Python 3 (ipykernel)",
   "language": "python",
   "name": "python3"
  },
  "language_info": {
   "codemirror_mode": {
    "name": "ipython",
    "version": 3
   },
   "file_extension": ".py",
   "mimetype": "text/x-python",
   "name": "python",
   "nbconvert_exporter": "python",
   "pygments_lexer": "ipython3",
   "version": "3.10.11"
  }
 },
 "nbformat": 4,
 "nbformat_minor": 5
}
